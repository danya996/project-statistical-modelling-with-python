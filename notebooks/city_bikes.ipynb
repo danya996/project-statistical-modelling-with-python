{
 "cells": [
  {
   "cell_type": "markdown",
   "metadata": {},
   "source": [
    "# CityBikes"
   ]
  },
  {
   "cell_type": "markdown",
   "metadata": {},
   "source": [
    "Send a request to CityBikes for the city of your choice. "
   ]
  },
  {
   "cell_type": "code",
   "execution_count": null,
   "metadata": {},
   "outputs": [],
   "source": []
  },
  {
   "cell_type": "markdown",
   "metadata": {},
   "source": [
    "Parse through the response to get the details you want for the bike stations in that city (latitude, longitude, number of bikes). "
   ]
  },
  {
   "cell_type": "code",
   "execution_count": null,
   "metadata": {},
   "outputs": [],
   "source": []
  },
  {
   "cell_type": "markdown",
   "metadata": {},
   "source": [
    "Put your parsed results into a DataFrame."
   ]
  },
  {
   "cell_type": "code",
   "execution_count": null,
   "metadata": {},
   "outputs": [],
   "source": []
  }
 ],
 "metadata": {
  "kernelspec": {
   "display_name": "Python 3",
   "language": "python",
   "name": "python3"
  },
  "language_info": {
   "codemirror_mode": {
    "name": "ipython",
    "version": 3
   },
   "file_extension": ".py",
   "mimetype": "text/x-python",
   "name": "python",
   "nbconvert_exporter": "python",
   "pygments_lexer": "ipython3",
   "version": "3.8.5"
  }
 },
 "nbformat": 4,
 "nbformat_minor": 4
}



######### SEND A REQUEST TO CITYBIKES FOR THE CITY OF YOUR CHOICE
import requests
import pandas as pd

url = 'https://api.citybik.es/v2/networks'

# Send Request
response = requests.get(url)
data = response.json()

# Get and print a list of cities
cities = [network['location']['city'] for network in data['networks']]
print("List of cities supported by the CityBikes API.")
for city in sorted(set(cities)):
    print(city)

import random

# API URL to fetch network data
url = 'https://api.citybik.es/v2/networks'

# Send a request to the API
response = requests.get(url)
data = response.json()

# Get a list of all cities
cities = [network['location']['city'] for network in data['networks']]

# Randomly select 100 cities (or all if there are fewer than 100 cities)
sampled_cities = random.sample(cities, min(100, len(cities)))

# Retrieve the number of bike stations for these 100 cities
city_station_count = {}
for city in sampled_cities:
    for network in data['networks']:
        if city == network['location']['city']:
            city_url = network['href']
            city_response = requests.get(f'https://api.citybik.es{city_url}')
            city_data = city_response.json()
            stations = city_data['network']['stations']
            city_station_count[city] = len(stations)
            break  # Exit the loop after finding the corresponding city

# List cities with fewer than 500 stations
print("List of cities (stations count less than 500):")
for city, count in city_station_count.items():
    if count < 500:
        print(f"{city}: {count} stations")

#######PARSE THROUGHT THE RESPONSE TO GET THE DETAILS YOU WANT FOR THE BIKE STATIONS IN THAT CITY (LATITUDE, LONGTITUDE, NUMBER OF BIKES)
city_name = 'Köln'

city_name in cities

# Find the specified city in the returned network
city_url = None
for network in data['networks']:
    if city_name.lower() in network['location']['city'].lower():
        city_url = network['href']
        break
    
# If city found, send request for site information
if city_url:
    city_response = requests.get(f'https://api.citybik.es{city_url}')
    city_data = city_response.json()

    # Extract site information
    stations = city_data['network']['stations']

    # Parsing site data
    station_data = []
    for station in stations:
        station_info = {
            'latitude': station['latitude'],
            'longitude': station['longitude'],
            'num_bikes': station['free_bikes']
        }
        station_data.append(station_info)
else:
    print("Wrong")

df = pd.DataFrame(station_data)
df

######## PUT YOUR PARSED RESULTS INTO A DATAFRAME
df.to_csv('part1_station_data.csv', index=False)
