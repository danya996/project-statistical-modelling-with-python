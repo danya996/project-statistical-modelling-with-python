
import requests
import pandas as pd

url = 'https://api.citybik.es/v2/networks'

# Send Request
response = requests.get(url)
data = response.json()

# Get and print a list of cities
cities = [network['location']['city'] for network in data['networks']]
print("List of cities supported by the CityBikes API.")
for city in sorted(set(cities)):
    print(city)

import random

# API URL to fetch network data
url = 'https://api.citybik.es/v2/networks'

# Send a request to the API
response = requests.get(url)
data = response.json()

# Get a list of all cities
cities = [network['location']['city'] for network in data['networks']]

# Randomly select 100 cities (or all if there are fewer than 100 cities)
sampled_cities = random.sample(cities, min(100, len(cities)))

# Retrieve the number of bike stations for these 100 cities
city_station_count = {}
for city in sampled_cities:
    for network in data['networks']:
        if city == network['location']['city']:
            city_url = network['href']
            city_response = requests.get(f'https://api.citybik.es{city_url}')
            city_data = city_response.json()
            stations = city_data['network']['stations']
            city_station_count[city] = len(stations)
            break  # Exit the loop after finding the corresponding city

# List cities with fewer than 500 stations
print("List of cities (stations count less than 500):")
for city, count in city_station_count.items():
    if count < 500:
        print(f"{city}: {count} stations")
 
city_name = 'Köln'

city_name in cities

# Find the specified city in the returned network
city_url = None
for network in data['networks']:
    if city_name.lower() in network['location']['city'].lower():
        city_url = network['href']
        break
    
# If city found, send request for site information
if city_url:
    city_response = requests.get(f'https://api.citybik.es{city_url}')
    city_data = city_response.json()

    # Extract site information
    stations = city_data['network']['stations']

    # Parsing site data
    station_data = []
    for station in stations:
        station_info = {
            'latitude': station['latitude'],
            'longitude': station['longitude'],
            'num_bikes': station['free_bikes']
        }
        station_data.append(station_info)
else:
    print("Wrong")

df = pd.DataFrame(station_data)
df

df.to_csv('part1_station_data.csv', index=False)

