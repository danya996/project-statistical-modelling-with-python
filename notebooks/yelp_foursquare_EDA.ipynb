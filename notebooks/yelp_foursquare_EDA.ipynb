{
 "cells": [
  {
   "cell_type": "code",

# imports
import requests
import pandas as pd

df = pd.read_csv('part1_station_data.csv')


   "execution_count": null,
   "metadata": {},
   "outputs": [],
   "source": [
    "# imports"
   ]
  },
  {
   "cell_type": "markdown",
   "metadata": {},
   "source": [
    "# Foursquare"
   ]
  },
  {
   "cell_type": "markdown",
   "metadata": {},
   "source": [
    "Send a request to Foursquare with a small radius (1000m) for all the bike stations in your city of choice. "
   ]
  },
  {
   "cell_type": "code",

import requests
import pandas as pd

headers = {
    "Accept": "application/json",
    "Authorization": "fsq36xroNyNlJQOc5/NZnRcJEi6Fwt7oBls6wrIyzKhZGAk="
}

foursquare_data = []
for station in df.itertuples():
    params = {
        'll': f'{station.latitude},{station.longitude}',
        'radius': 1000, 
        'categories': '13065,13003',  # Dining and Drinking > Restaurant, Dining and Drinking > Bar
        'limit': 50  
    }
    response = requests.get('https://api.foursquare.com/v3/places/search', headers=headers, params=params)

    if response.status_code != 200:
        print(f"Request failed with status code:{response.status_code}")
        continue

   "execution_count": null,
   "metadata": {},
   "outputs": [],
   "source": []
  },
  {
   "cell_type": "markdown",
   "metadata": {},
   "source": [
    "Parse through the response to get the POI (such as restaurants, bars, etc) details you want (ratings, name, location, etc)"
   ]
  },
  {
   "cell_type": "code",
data = response.json()

    for venue in data['results']:
        venue_info = {
            'name': venue['name'],
            'latitude': venue['geocodes']['main']['latitude'],
            'longitude': venue['geocodes']['main']['longitude'],
            'category': venue['categories'][0]['name'] if venue['categories'] else 'Unknown'
        }
        foursquare_data.append(venue_info)

   "execution_count": null,
   "metadata": {},
   "outputs": [],
   "source": []
  },
  {
   "cell_type": "markdown",
   "metadata": {},
   "source": [
    "Put your parsed results into a DataFrame"
   ]
  },
  {
   "cell_type": "code",
foursquare_df = pd.DataFrame(foursquare_data)
foursquare_df

foursquare_df.to_csv('part2_foursquare_data.csv', index=False)

   "execution_count": null,
   "metadata": {},
   "outputs": [],
   "source": []
  },
  {
   "cell_type": "markdown",
   "metadata": {},
   "source": [
    "# Yelp"
   ]
  },
  {
   "cell_type": "markdown",
   "metadata": {},
   "source": [
    "Send a request to Yelp with a small radius (1000m) for all the bike stations in your city of choice. "
   ]
  },
  {
   "cell_type": "code",
import time
yelp_api_key = 'BISBc6fQXBhVDrEiGFK6WZFSUJWhaneFpm2naqAHSb2nUJjPFZ1xHpdZfvGCMKbRnIRP-KgjFnqDnkk83PkqEHCuKXfZ66DoCi3F6jBzXWgeikfqam0kchu21LRxZXYx'
headers = {'Authorization': f'Bearer {yelp_api_key}'}

yelp_data = []
for station in df.itertuples():
    params = {
        'latitude': station.latitude,
        'longitude': station.longitude,
        'radius': 1000,
        'categories': 'restaurants,bars',
        'limit': 50
    }
    response = requests.get('https://api.yelp.com/v3/businesses/search', headers=headers, params=params)

    if response.status_code == 200:
        data = response.json().get('businesses', [])
        for business in data:
            business_info = {
                'name': business['name'],
                'latitude': business['coordinates']['latitude'],
                'longitude': business['coordinates']['longitude'],
                'rating': business.get('rating', None)
            }
            yelp_data.append(business_info)
    elif response.status_code == 429:
        print("Rate limit reached, request suspended")
        time.sleep(60)  
        continue
    else:
        print(f"Request failed with status code:{response.status_code}, response content:{response.text}")

    time.sleep(1)  

   "execution_count": null,
   "metadata": {},
   "outputs": [],
   "source": []
  },
  {
   "cell_type": "markdown",
   "metadata": {},
   "source": [
    "Parse through the response to get the POI (such as restaurants, bars, etc) details you want (ratings, name, location, etc)"
   ]
  },
  {
   "cell_type": "code",
   "execution_count": null,
   "metadata": {},
   "outputs": [],
   "source": []
  },
  {
   "cell_type": "markdown",
   "metadata": {},
   "source": [
    "Put your parsed results into a DataFrame"
   ]
  },
  {
   "cell_type": "code",
yelp_df = pd.DataFrame(yelp_data)
yelp_df

yelp_df.to_csv('part2_yelp_data.csv', index=False)

   "metadata": {},
   "source": []
  },
  {
   "cell_type": "markdown",
   "metadata": {},
   "source": [
    "# Comparing Results"
   ]
  },
  {
   "cell_type": "markdown",
   "metadata": {},
   "source": [
    "Which API provided you with more complete data? Provide an explanation. "
   ]
  },
  {
   "cell_type": "markdown",
   "metadata": {},
   "source": []
  },
  {
   "cell_type": "code",
len(foursquare_df), len(yelp_df)

   "metadata": {},
   "source": [
    "Get the top 10 restaurants according to their rating"
   ]
  },
  {
   "cell_type": "code",
top_10_restaurants = yelp_df.sort_values(by='rating', ascending=False).head(10)
print(top_10_restaurants)
   "execution_count": null,
   "metadata": {},
   "outputs": [],
   "source": []
  }
 ],
 "metadata": {
  "kernelspec": {
   "display_name": "Python 3",
   "language": "python",
   "name": "python3"
  },
  "language_info": {
   "codemirror_mode": {
    "name": "ipython",
    "version": 3
   },
   "file_extension": ".py",
   "mimetype": "text/x-python",
   "name": "python",
   "nbconvert_exporter": "python",
   "pygments_lexer": "ipython3",
   "version": "3.8.5"
  }
 },
 "nbformat": 4,
 "nbformat_minor": 4
}
