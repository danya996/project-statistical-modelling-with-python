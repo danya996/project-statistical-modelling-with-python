

# imports
import requests
import pandas as pd

df = pd.read_csv('part1_station_data.csv')



import requests
import pandas as pd

headers = {
    "Accept": "application/json",
    "Authorization": "fsq36xroNyNlJQOc5/NZnRcJEi6Fwt7oBls6wrIyzKhZGAk="
}

foursquare_data = []
for station in df.itertuples():
    params = {
        'll': f'{station.latitude},{station.longitude}',
        'radius': 1000, 
        'categories': '13065,13003',  # Dining and Drinking > Restaurant, Dining and Drinking > Bar
        'limit': 50  
    }
    response = requests.get('https://api.foursquare.com/v3/places/search', headers=headers, params=params)

    if response.status_code != 200:
        print(f"Request failed with status code:{response.status_code}")
        continue

data = response.json()

    for venue in data['results']:
        venue_info = {
            'name': venue['name'],
            'latitude': venue['geocodes']['main']['latitude'],
            'longitude': venue['geocodes']['main']['longitude'],
            'category': venue['categories'][0]['name'] if venue['categories'] else 'Unknown'
        }
        foursquare_data.append(venue_info)


foursquare_df = pd.DataFrame(foursquare_data)
foursquare_df

foursquare_df.to_csv('part2_foursquare_data.csv', index=False)


import time
yelp_api_key = 'BISBc6fQXBhVDrEiGFK6WZFSUJWhaneFpm2naqAHSb2nUJjPFZ1xHpdZfvGCMKbRnIRP-KgjFnqDnkk83PkqEHCuKXfZ66DoCi3F6jBzXWgeikfqam0kchu21LRxZXYx'
headers = {'Authorization': f'Bearer {yelp_api_key}'}

yelp_data = []
for station in df.itertuples():
    params = {
        'latitude': station.latitude,
        'longitude': station.longitude,
        'radius': 1000,
        'categories': 'restaurants,bars',
        'limit': 50
    }
    response = requests.get('https://api.yelp.com/v3/businesses/search', headers=headers, params=params)

    if response.status_code == 200:
        data = response.json().get('businesses', [])
        for business in data:
            business_info = {
                'name': business['name'],
                'latitude': business['coordinates']['latitude'],
                'longitude': business['coordinates']['longitude'],
                'rating': business.get('rating', None)
            }
            yelp_data.append(business_info)
    elif response.status_code == 429:
        print("Rate limit reached, request suspended")
        time.sleep(60)  
        continue
    else:
        print(f"Request failed with status code:{response.status_code}, response content:{response.text}")

    time.sleep(1)  


yelp_df = pd.DataFrame(yelp_data)
yelp_df

yelp_df.to_csv('part2_yelp_data.csv', index=False)


top_10_restaurants = yelp_df.sort_values(by='rating', ascending=False).head(10)
print(top_10_restaurants)
  
