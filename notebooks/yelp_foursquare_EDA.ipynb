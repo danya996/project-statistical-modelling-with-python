{
 "cells": [
  {
   "cell_type": "code",
   "execution_count": 1,
   "id": "9ad4dafb-0c29-4c5e-aaeb-5b3298117021",
   "metadata": {
    "tags": []
   },
   "outputs": [],
   "source": [
    "# imports\n",
    "import requests\n",
    "import pandas as pd"
   ]
  },
  {
   "cell_type": "code",
   "execution_count": 2,
   "id": "80857c5a-dfdd-4987-b234-6ae5504ce9a9",
   "metadata": {
    "tags": []
   },
   "outputs": [],
   "source": [
    "df = pd.read_csv('part1_station_data.csv')"
   ]
  },
  {
   "cell_type": "code",
   "execution_count": 3,
   "id": "301cb20c-185b-4e02-911b-d9940a4595be",
   "metadata": {
    "tags": []
   },
   "outputs": [],
   "source": [
    "import requests\n",
    "import pandas as pd\n",
    "\n",
    "headers = {\n",
    "    \"Accept\": \"application/json\",\n",
    "    \"Authorization\": \"fsq36xroNyNlJQOc5/NZnRcJEi6Fwt7oBls6wrIyzKhZGAk=\"\n",
    "}\n",
    "\n",
    "foursquare_data = []\n",
    "for station in df.itertuples():\n",
    "    params = {\n",
    "        'll': f'{station.latitude},{station.longitude}',\n",
    "        'radius': 1000, \n",
    "        'categories': '13065,13003',  # Dining and Drinking > Restaurant, Dining and Drinking > Bar\n",
    "        'limit': 50  \n",
    "    }\n",
    "    response = requests.get('https://api.foursquare.com/v3/places/search', headers=headers, params=params)\n",
    "\n",
    "    if response.status_code != 200:\n",
    "        print(f\"Request failed with status code:{response.status_code}\")\n",
    "        continue\n",
    "\n",
    "    data = response.json()\n",
    "\n",
    "    for venue in data['results']:\n",
    "        venue_info = {\n",
    "            'name': venue['name'],\n",
    "            'latitude': venue['geocodes']['main']['latitude'],\n",
    "            'longitude': venue['geocodes']['main']['longitude'],\n",
    "            'category': venue['categories'][0]['name'] if venue['categories'] else 'Unknown'\n",
    "        }\n",
    "        foursquare_data.append(venue_info)"
   ]
  },
  {
   "cell_type": "code",
   "execution_count": 4,
   "id": "effc60fc-d288-4745-bdc9-28fdef6f0aa6",
   "metadata": {
    "tags": []
   },
   "outputs": [
    {
     "data": {
      "text/html": [
       "<div>\n",
       "<style scoped>\n",
       "    .dataframe tbody tr th:only-of-type {\n",
       "        vertical-align: middle;\n",
       "    }\n",
       "\n",
       "    .dataframe tbody tr th {\n",
       "        vertical-align: top;\n",
       "    }\n",
       "\n",
       "    .dataframe thead th {\n",
       "        text-align: right;\n",
       "    }\n",
       "</style>\n",
       "<table border=\"1\" class=\"dataframe\">\n",
       "  <thead>\n",
       "    <tr style=\"text-align: right;\">\n",
       "      <th></th>\n",
       "      <th>name</th>\n",
       "      <th>latitude</th>\n",
       "      <th>longitude</th>\n",
       "      <th>category</th>\n",
       "    </tr>\n",
       "  </thead>\n",
       "  <tbody>\n",
       "    <tr>\n",
       "      <th>0</th>\n",
       "      <td>Essers Gasthaus</td>\n",
       "      <td>50.956494</td>\n",
       "      <td>6.927119</td>\n",
       "      <td>Austrian Restaurant</td>\n",
       "    </tr>\n",
       "    <tr>\n",
       "      <th>1</th>\n",
       "      <td>Café Franck</td>\n",
       "      <td>50.956355</td>\n",
       "      <td>6.922496</td>\n",
       "      <td>Café</td>\n",
       "    </tr>\n",
       "    <tr>\n",
       "      <th>2</th>\n",
       "      <td>Pane e Cioccolata</td>\n",
       "      <td>50.954232</td>\n",
       "      <td>6.924428</td>\n",
       "      <td>Pizzeria</td>\n",
       "    </tr>\n",
       "    <tr>\n",
       "      <th>3</th>\n",
       "      <td>Restaurant Carls</td>\n",
       "      <td>50.955888</td>\n",
       "      <td>6.922870</td>\n",
       "      <td>German Restaurant</td>\n",
       "    </tr>\n",
       "    <tr>\n",
       "      <th>4</th>\n",
       "      <td>Vasco da Gama</td>\n",
       "      <td>50.955488</td>\n",
       "      <td>6.932871</td>\n",
       "      <td>Portuguese Restaurant</td>\n",
       "    </tr>\n",
       "    <tr>\n",
       "      <th>...</th>\n",
       "      <td>...</td>\n",
       "      <td>...</td>\n",
       "      <td>...</td>\n",
       "      <td>...</td>\n",
       "    </tr>\n",
       "    <tr>\n",
       "      <th>4101</th>\n",
       "      <td>Kudret Kebap House</td>\n",
       "      <td>50.948155</td>\n",
       "      <td>6.921100</td>\n",
       "      <td>Doner Restaurant</td>\n",
       "    </tr>\n",
       "    <tr>\n",
       "      <th>4102</th>\n",
       "      <td>Ihrefelder Eck</td>\n",
       "      <td>50.956422</td>\n",
       "      <td>6.913144</td>\n",
       "      <td>Bar</td>\n",
       "    </tr>\n",
       "    <tr>\n",
       "      <th>4103</th>\n",
       "      <td>McDonald's</td>\n",
       "      <td>50.949856</td>\n",
       "      <td>6.916848</td>\n",
       "      <td>Burger Joint</td>\n",
       "    </tr>\n",
       "    <tr>\n",
       "      <th>4104</th>\n",
       "      <td>Markthalle Körnerstraße</td>\n",
       "      <td>50.948436</td>\n",
       "      <td>6.922124</td>\n",
       "      <td>Restaurant</td>\n",
       "    </tr>\n",
       "    <tr>\n",
       "      <th>4105</th>\n",
       "      <td>Antiga-Arancio GmbH</td>\n",
       "      <td>50.952668</td>\n",
       "      <td>6.923748</td>\n",
       "      <td>Cafe, Coffee, and Tea House</td>\n",
       "    </tr>\n",
       "  </tbody>\n",
       "</table>\n",
       "<p>4106 rows × 4 columns</p>\n",
       "</div>"
      ],
      "text/plain": [
       "                         name   latitude  longitude  \\\n",
       "0             Essers Gasthaus  50.956494   6.927119   \n",
       "1                 Café Franck  50.956355   6.922496   \n",
       "2           Pane e Cioccolata  50.954232   6.924428   \n",
       "3            Restaurant Carls  50.955888   6.922870   \n",
       "4               Vasco da Gama  50.955488   6.932871   \n",
       "...                       ...        ...        ...   \n",
       "4101       Kudret Kebap House  50.948155   6.921100   \n",
       "4102           Ihrefelder Eck  50.956422   6.913144   \n",
       "4103               McDonald's  50.949856   6.916848   \n",
       "4104  Markthalle Körnerstraße  50.948436   6.922124   \n",
       "4105      Antiga-Arancio GmbH  50.952668   6.923748   \n",
       "\n",
       "                         category  \n",
       "0             Austrian Restaurant  \n",
       "1                            Café  \n",
       "2                        Pizzeria  \n",
       "3               German Restaurant  \n",
       "4           Portuguese Restaurant  \n",
       "...                           ...  \n",
       "4101             Doner Restaurant  \n",
       "4102                          Bar  \n",
       "4103                 Burger Joint  \n",
       "4104                   Restaurant  \n",
       "4105  Cafe, Coffee, and Tea House  \n",
       "\n",
       "[4106 rows x 4 columns]"
      ]
     },
     "execution_count": 4,
     "metadata": {},
     "output_type": "execute_result"
    }
   ],
   "source": [
    "foursquare_df = pd.DataFrame(foursquare_data)\n",
    "foursquare_df"
   ]
  },
  {
   "cell_type": "code",
   "execution_count": 5,
   "id": "7a23c854-f68b-4313-8007-3c8e0ef7daf8",
   "metadata": {
    "tags": []
   },
   "outputs": [],
   "source": [
    "foursquare_df.to_csv('part2_foursquare_data.csv', index=False)"
   ]
  },
  {
   "cell_type": "code",
   "execution_count": 6,
   "id": "e4b7f73f-477a-4a59-bcab-cfca02ea6fbe",
   "metadata": {
    "tags": []
   },
   "outputs": [],
   "source": [
    "import time\n",
    "yelp_api_key = 'BISBc6fQXBhVDrEiGFK6WZFSUJWhaneFpm2naqAHSb2nUJjPFZ1xHpdZfvGCMKbRnIRP-KgjFnqDnkk83PkqEHCuKXfZ66DoCi3F6jBzXWgeikfqam0kchu21LRxZXYx'\n",
    "headers = {'Authorization': f'Bearer {yelp_api_key}'}\n",
    "\n",
    "yelp_data = []\n",
    "for station in df.itertuples():\n",
    "    params = {\n",
    "        'latitude': station.latitude,\n",
    "        'longitude': station.longitude,\n",
    "        'radius': 1000,\n",
    "        'categories': 'restaurants,bars',\n",
    "        'limit': 50\n",
    "    }\n",
    "    response = requests.get('https://api.yelp.com/v3/businesses/search', headers=headers, params=params)\n",
    "\n",
    "    if response.status_code == 200:\n",
    "        data = response.json().get('businesses', [])\n",
    "        for business in data:\n",
    "            business_info = {\n",
    "                'name': business['name'],\n",
    "                'latitude': business['coordinates']['latitude'],\n",
    "                'longitude': business['coordinates']['longitude'],\n",
    "                'rating': business.get('rating', None)\n",
    "            }\n",
    "            yelp_data.append(business_info)\n",
    "    elif response.status_code == 429:\n",
    "        print(\"Rate limit reached, request suspended\")\n",
    "        time.sleep(60)  \n",
    "        continue\n",
    "    else:\n",
    "        print(f\"Request failed with status code:{response.status_code}, response content:{response.text}\")\n",
    "\n",
    "    time.sleep(1)  "
   ]
  },
  {
   "cell_type": "code",
   "execution_count": 7,
   "id": "ed2f0982-bf11-4bd6-b210-1776a0013702",
   "metadata": {
    "tags": []
   },
   "outputs": [
    {
     "data": {
      "text/html": [
       "<div>\n",
       "<style scoped>\n",
       "    .dataframe tbody tr th:only-of-type {\n",
       "        vertical-align: middle;\n",
       "    }\n",
       "\n",
       "    .dataframe tbody tr th {\n",
       "        vertical-align: top;\n",
       "    }\n",
       "\n",
       "    .dataframe thead th {\n",
       "        text-align: right;\n",
       "    }\n",
       "</style>\n",
       "<table border=\"1\" class=\"dataframe\">\n",
       "  <thead>\n",
       "    <tr style=\"text-align: right;\">\n",
       "      <th></th>\n",
       "      <th>name</th>\n",
       "      <th>latitude</th>\n",
       "      <th>longitude</th>\n",
       "      <th>rating</th>\n",
       "    </tr>\n",
       "  </thead>\n",
       "  <tbody>\n",
       "    <tr>\n",
       "      <th>0</th>\n",
       "      <td>Pane e Cioccolata</td>\n",
       "      <td>50.954260</td>\n",
       "      <td>6.924250</td>\n",
       "      <td>4.5</td>\n",
       "    </tr>\n",
       "    <tr>\n",
       "      <th>1</th>\n",
       "      <td>Essers Gasthaus</td>\n",
       "      <td>50.956510</td>\n",
       "      <td>6.927020</td>\n",
       "      <td>4.0</td>\n",
       "    </tr>\n",
       "    <tr>\n",
       "      <th>2</th>\n",
       "      <td>Shepheard</td>\n",
       "      <td>50.955328</td>\n",
       "      <td>6.932669</td>\n",
       "      <td>4.5</td>\n",
       "    </tr>\n",
       "    <tr>\n",
       "      <th>3</th>\n",
       "      <td>Vasco da Gama</td>\n",
       "      <td>50.956440</td>\n",
       "      <td>6.936020</td>\n",
       "      <td>4.5</td>\n",
       "    </tr>\n",
       "    <tr>\n",
       "      <th>4</th>\n",
       "      <td>Café Franck</td>\n",
       "      <td>50.956350</td>\n",
       "      <td>6.922420</td>\n",
       "      <td>4.5</td>\n",
       "    </tr>\n",
       "    <tr>\n",
       "      <th>...</th>\n",
       "      <td>...</td>\n",
       "      <td>...</td>\n",
       "      <td>...</td>\n",
       "      <td>...</td>\n",
       "    </tr>\n",
       "    <tr>\n",
       "      <th>3742</th>\n",
       "      <td>Cafecafe</td>\n",
       "      <td>50.946495</td>\n",
       "      <td>6.924776</td>\n",
       "      <td>4.5</td>\n",
       "    </tr>\n",
       "    <tr>\n",
       "      <th>3743</th>\n",
       "      <td>Pöttgen</td>\n",
       "      <td>50.956030</td>\n",
       "      <td>6.918710</td>\n",
       "      <td>4.0</td>\n",
       "    </tr>\n",
       "    <tr>\n",
       "      <th>3744</th>\n",
       "      <td>Weinlokal Secco</td>\n",
       "      <td>50.947800</td>\n",
       "      <td>6.922650</td>\n",
       "      <td>4.0</td>\n",
       "    </tr>\n",
       "    <tr>\n",
       "      <th>3745</th>\n",
       "      <td>Causas Peru</td>\n",
       "      <td>50.955680</td>\n",
       "      <td>6.905519</td>\n",
       "      <td>4.0</td>\n",
       "    </tr>\n",
       "    <tr>\n",
       "      <th>3746</th>\n",
       "      <td>Libanon</td>\n",
       "      <td>50.953900</td>\n",
       "      <td>6.911290</td>\n",
       "      <td>4.5</td>\n",
       "    </tr>\n",
       "  </tbody>\n",
       "</table>\n",
       "<p>3747 rows × 4 columns</p>\n",
       "</div>"
      ],
      "text/plain": [
       "                   name   latitude  longitude  rating\n",
       "0     Pane e Cioccolata  50.954260   6.924250     4.5\n",
       "1       Essers Gasthaus  50.956510   6.927020     4.0\n",
       "2             Shepheard  50.955328   6.932669     4.5\n",
       "3         Vasco da Gama  50.956440   6.936020     4.5\n",
       "4           Café Franck  50.956350   6.922420     4.5\n",
       "...                 ...        ...        ...     ...\n",
       "3742           Cafecafe  50.946495   6.924776     4.5\n",
       "3743            Pöttgen  50.956030   6.918710     4.0\n",
       "3744    Weinlokal Secco  50.947800   6.922650     4.0\n",
       "3745        Causas Peru  50.955680   6.905519     4.0\n",
       "3746            Libanon  50.953900   6.911290     4.5\n",
       "\n",
       "[3747 rows x 4 columns]"
      ]
     },
     "execution_count": 7,
     "metadata": {},
     "output_type": "execute_result"
    }
   ],
   "source": [
    "yelp_df = pd.DataFrame(yelp_data)\n",
    "yelp_df"
   ]
  },
  {
   "cell_type": "code",
   "execution_count": 8,
   "id": "bfff5e59-4fee-4b88-8cee-58972434e999",
   "metadata": {
    "tags": []
   },
   "outputs": [],
   "source": [
    "yelp_df.to_csv('part2_yelp_data.csv', index=False)"
   ]
  },
  {
   "cell_type": "code",
   "execution_count": 9,
   "id": "c4223f2c-fe62-4b02-a966-823933a57d83",
   "metadata": {
    "tags": []
   },
   "outputs": [
    {
     "data": {
      "text/plain": [
       "(4106, 3747)"
      ]
     },
     "execution_count": 9,
     "metadata": {},
     "output_type": "execute_result"
    }
   ],
   "source": [
    "len(foursquare_df), len(yelp_df)"
   ]
  },
  {
   "cell_type": "code",
   "execution_count": 10,
   "id": "febb5acb-aa84-4fb0-8685-afc5d5807516",
   "metadata": {
    "tags": []
   },
   "outputs": [
    {
     "name": "stdout",
     "output_type": "stream",
     "text": [
      "                               name   latitude  longitude  rating\n",
      "1873         Restaurant Willomitzer  50.962540   6.997980     5.0\n",
      "1657                    Kreta Grill  50.971370   7.033960     5.0\n",
      "2699  Restaurant Gronauer Tannenhof  50.938900   7.064030     5.0\n",
      "1655                      Neue Post  50.971300   7.049740     5.0\n",
      "2706                      Helmholtz  50.953490   6.903630     5.0\n",
      "1644                    Kreta Grill  50.971370   7.033960     5.0\n",
      "1642                      Neue Post  50.971300   7.049740     5.0\n",
      "1631               Salva's Pastabar  50.971052   7.073041     5.0\n",
      "336                     NIMET-GRILL  50.921650   6.959140     5.0\n",
      "2737                       Woanders  50.948680   6.908037     5.0\n"
     ]
    }
   ],
   "source": [
    "top_10_restaurants = yelp_df.sort_values(by='rating', ascending=False).head(10)\n",
    "print(top_10_restaurants)"
   ]
  },
  {
   "cell_type": "code",
   "execution_count": null,
   "id": "d1bbb9c8-62df-45c0-a6e7-3c7710106ef9",
   "metadata": {},
   "outputs": [],
   "source": []
  }
 ],
 "metadata": {
  "kernelspec": {
   "display_name": "Python 3 (ipykernel)",
   "language": "python",
   "name": "python3"
  },
  "language_info": {
   "codemirror_mode": {
    "name": "ipython",
    "version": 3
   },
   "file_extension": ".py",
   "mimetype": "text/x-python",
   "name": "python",
   "nbconvert_exporter": "python",
   "pygments_lexer": "ipython3",
   "version": "3.11.5"
  }
 },
 "nbformat": 4,
 "nbformat_minor": 5
}
