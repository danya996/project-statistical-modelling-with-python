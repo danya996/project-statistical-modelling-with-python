
import pandas as pd
import statsmodels.api as sm

merged_df = pd.read_csv('part3_merged_data.csv')
merged_df.head()

merged_df.info()

X = merged_df[['rating']] 
y = merged_df['num_bikes']  

# Add a constant term to fit the intercept
X = sm.add_constant(X)

# Construct and fit the model
model = sm.OLS(y, X).fit()

# Output model results
model_summary = model.summary()
print(model_summary)



